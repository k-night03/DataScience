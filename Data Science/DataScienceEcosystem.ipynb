{
 "cells": [
  {
   "cell_type": "markdown",
   "id": "ac2f3d5f",
   "metadata": {},
   "source": [
    "# Data Science tools and Ecosystem"
   ]
  },
  {
   "cell_type": "markdown",
   "id": "2b1b353e",
   "metadata": {},
   "source": [
    "In this notebook, Data Science tools and Ecosystem are summarized"
   ]
  },
  {
   "cell_type": "markdown",
   "id": "a17ad066",
   "metadata": {},
   "source": [
    "**Objectives:**\n",
    "    *Popular languages for data Science\n",
    "    *Linraries for Data Science\n",
    "    *Tools used in Data Science\n",
    "    *Evaluation of arithetic operations"
   ]
  },
  {
   "cell_type": "markdown",
   "id": "e8ffa6aa",
   "metadata": {},
   "source": [
    "some of the popular languages that data scientists use are:\n",
    "    1.Python\n",
    "    2.R\n",
    "    3.Scala"
   ]
  },
  {
   "cell_type": "markdown",
   "id": "2474d9b8",
   "metadata": {},
   "source": [
    "Data Science Libraries :\n",
    "1.Numpy\n",
    "2.Pandas\n",
    "3.Keras\n",
    "4.Tensorflow\n",
    "5.Pytorch"
   ]
  },
  {
   "cell_type": "code",
   "execution_count": null,
   "id": "35ed3ee6",
   "metadata": {},
   "outputs": [],
   "source": [
    "| Data Science Tool |\n",
    "|-------------------|\n",
    "|  JuputerNotebook  | \n",
    "|  Matplotlib       |\n",
    "|  Seaborn          |\n",
    "|  Tableau          |\n",
    "|  Power BI         |\n"
   ]
  },
  {
   "cell_type": "markdown",
   "id": "57973d0c",
   "metadata": {},
   "source": [
    "Below are few examples of evaluatina arithmetic expressions in python "
   ]
  },
  {
   "cell_type": "code",
   "execution_count": 1,
   "id": "ba922777",
   "metadata": {},
   "outputs": [
    {
     "data": {
      "text/plain": [
       "17"
      ]
     },
     "execution_count": 1,
     "metadata": {},
     "output_type": "execute_result"
    }
   ],
   "source": [
    "#this is a simple arithmetic expression to add then multiply integers \n",
    "(3*4)+5"
   ]
  },
  {
   "cell_type": "code",
   "execution_count": 2,
   "id": "a9866fe7",
   "metadata": {},
   "outputs": [
    {
     "name": "stdout",
     "output_type": "stream",
     "text": [
      "3.3333333333333335\n"
     ]
    }
   ],
   "source": [
    "x=200/60\n",
    "print(x)"
   ]
  },
  {
   "cell_type": "markdown",
   "id": "fea73b08",
   "metadata": {},
   "source": [
    "## Author : Krishna Kumar GR"
   ]
  }
 ],
 "metadata": {
  "kernelspec": {
   "display_name": "Python 3 (ipykernel)",
   "language": "python",
   "name": "python3"
  },
  "language_info": {
   "codemirror_mode": {
    "name": "ipython",
    "version": 3
   },
   "file_extension": ".py",
   "mimetype": "text/x-python",
   "name": "python",
   "nbconvert_exporter": "python",
   "pygments_lexer": "ipython3",
   "version": "3.11.4"
  }
 },
 "nbformat": 4,
 "nbformat_minor": 5
}
